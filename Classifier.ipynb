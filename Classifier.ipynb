{
 "cells": [
  {
   "cell_type": "code",
   "execution_count": 1,
   "metadata": {},
   "outputs": [
    {
     "name": "stderr",
     "output_type": "stream",
     "text": [
      "Using TensorFlow backend.\n"
     ]
    }
   ],
   "source": [
    "#LIBRERIAS A USAR PARA LA PREDICCIÓN\n",
    "import numpy as np\n",
    "from keras.preprocessing.image import load_img, img_to_array\n",
    "from keras.models import load_model"
   ]
  },
  {
   "cell_type": "code",
   "execution_count": null,
   "metadata": {},
   "outputs": [],
   "source": [
    "#VARAIBLES DE DIMENSIONES DE LAS IMAGENES A PREDECIR\n",
    "longitud, altura = 224, 224 #Longitud y altura de las imagenes\n",
    "\n",
    "#DIRECCIONES DEL MODELO Y PESOS\n",
    "modelo = './modelos/modelo.h5' #Dirección del modelo\n",
    "pesos_modelo = './modelo/pesos.h5' #Dirección de los pesos del modelo\n",
    "\n",
    "#CARGAMOS EL MODELO Y LOS PESOS DE LA RED NEURONAL\n",
    "cnn = load_model(modelo) #Cargamos el modelo\n",
    "cnn.load_weights(pesos_modelo) #Cargamos los pesos del modelo"
   ]
  },
  {
   "cell_type": "code",
   "execution_count": null,
   "metadata": {},
   "outputs": [],
   "source": [
    "#FUNCIÓN PARA REALIZAR LA PREDICCIÓN DE UNA IMAGEN\n",
    "def predict(file):\n",
    "    x = load_img(file, target_size = (longitud, altura)) #Cargamos las imagen con longitud y altura esperados en las variables\n",
    "    x = img_to_array(x) #Convertmos la imagen en un array\n",
    "    x = np.expand_dims(x, axis = 0) #Expandimos sus dimensiones\n",
    "    array = cnn.predict(x) #Realizamos la predicción de la imagen con lo contenido en el modelo\n",
    "    result = array[0] #Tomamos el arreglo donde con las probabilidades de coincidencia de la imagen con las clases\n",
    "    answer = np.argmax(result) #Toma el valor mas alto y regresa el índice en donde se encuentra\n",
    "    if answer == 0: #En caso de que el valor de answer sea 0\n",
    "        print('Predicción: Su piel muestra tener cáncer de tipo benigno')\n",
    "    if answer == 1: #En caso de que el valor de answer sea 1\n",
    "        print('Predicción: Su piel muestra tener cáncer de tipo maligno')\n",
    "\n",
    "    return answer #Retorna el resultado de la predicción"
   ]
  },
  {
   "cell_type": "code",
   "execution_count": null,
   "metadata": {},
   "outputs": [],
   "source": [
    "#INGRESO DE IMAGEN Y PREDICCIÓN\n",
    "image = input('Ingrese la foto de la radiografía a usar: ') #Pide la imagen a predecir\n",
    "predict(image) #Realiza la función de predicción con esa imagen"
   ]
  }
 ],
 "metadata": {
  "kernelspec": {
   "display_name": "Python 3",
   "language": "python",
   "name": "python3"
  },
  "language_info": {
   "codemirror_mode": {
    "name": "ipython",
    "version": 3
   },
   "file_extension": ".py",
   "mimetype": "text/x-python",
   "name": "python",
   "nbconvert_exporter": "python",
   "pygments_lexer": "ipython3",
   "version": "3.7.5"
  }
 },
 "nbformat": 4,
 "nbformat_minor": 2
}
